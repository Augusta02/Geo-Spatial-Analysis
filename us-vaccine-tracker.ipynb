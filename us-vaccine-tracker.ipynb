{
 "cells": [
  {
   "cell_type": "markdown",
   "metadata": {
    "execution": {
     "iopub.execute_input": "2023-12-08T11:06:04.594666Z",
     "iopub.status.busy": "2023-12-08T11:06:04.594415Z",
     "iopub.status.idle": "2023-12-08T11:06:04.598657Z",
     "shell.execute_reply": "2023-12-08T11:06:04.598109Z",
     "shell.execute_reply.started": "2023-12-08T11:06:04.594643Z"
    },
    "papermill": {
     "duration": 0.022369,
     "end_time": "2023-12-08T12:00:25.637951",
     "exception": false,
     "start_time": "2023-12-08T12:00:25.615582",
     "status": "completed"
    },
    "tags": []
   },
   "source": [
    "# **1. Import Libraries**\n"
   ]
  },
  {
   "cell_type": "code",
   "execution_count": 1,
   "metadata": {
    "execution": {
     "iopub.execute_input": "2023-12-08T12:00:25.683251Z",
     "iopub.status.busy": "2023-12-08T12:00:25.682455Z",
     "iopub.status.idle": "2023-12-08T12:00:27.142184Z",
     "shell.execute_reply": "2023-12-08T12:00:27.142838Z",
     "shell.execute_reply.started": "2023-12-08T11:51:41.464392Z"
    },
    "papermill": {
     "duration": 1.486182,
     "end_time": "2023-12-08T12:00:27.143042",
     "exception": false,
     "start_time": "2023-12-08T12:00:25.656860",
     "status": "completed"
    },
    "tags": []
   },
   "outputs": [],
   "source": [
    "import pandas as pd\n",
    "from datetime import date, timedelta\n",
    "import folium\n",
    "from folium import Choropleth, Circle, Marker\n",
    "from folium.plugins import HeatMap, MarkerCluster\n",
    "import math\n",
    "import matplotlib.pyplot as plt\n",
    "import seaborn as sns"
   ]
  },
  {
   "cell_type": "markdown",
   "metadata": {
    "papermill": {
     "duration": 0.018576,
     "end_time": "2023-12-08T12:00:27.180435",
     "exception": false,
     "start_time": "2023-12-08T12:00:27.161859",
     "status": "completed"
    },
    "tags": []
   },
   "source": [
    "# 2. Load Data \n",
    "\n",
    "This population data is pulled from the 2019 US Census and is here along with latitude and longitude data for each states capital city:"
   ]
  },
  {
   "cell_type": "code",
   "execution_count": 2,
   "metadata": {
    "_cell_guid": "79c7e3d0-c299-4dcb-8224-4455121ee9b0",
    "_uuid": "d629ff2d2480ee46fbb7e2d37f6b5fab8052498a",
    "execution": {
     "iopub.execute_input": "2023-12-08T12:00:27.229133Z",
     "iopub.status.busy": "2023-12-08T12:00:27.228270Z",
     "iopub.status.idle": "2023-12-08T12:00:27.806922Z",
     "shell.execute_reply": "2023-12-08T12:00:27.807593Z",
     "shell.execute_reply.started": "2023-12-08T11:51:41.478223Z"
    },
    "papermill": {
     "duration": 0.607924,
     "end_time": "2023-12-08T12:00:27.807759",
     "exception": false,
     "start_time": "2023-12-08T12:00:27.199835",
     "status": "completed"
    },
    "tags": []
   },
   "outputs": [],
   "source": [
    "\n",
    "\n",
    "# Population Data\n",
    "populationData = pd.read_csv('/kaggle/input/2019-census-us-population-data-by-state/2019_Census_US_Population_Data_By_State_Lat_Long.csv')\n",
    "\n",
    "# vaccintion data\n",
    "vaccinationData = pd.read_csv('https://raw.githubusercontent.com/owid/covid-19-data/master/public/data/vaccinations/us_state_vaccinations.csv')\n"
   ]
  },
  {
   "cell_type": "code",
   "execution_count": 3,
   "metadata": {
    "execution": {
     "iopub.execute_input": "2023-12-08T12:00:27.852220Z",
     "iopub.status.busy": "2023-12-08T12:00:27.851060Z",
     "iopub.status.idle": "2023-12-08T12:00:27.882656Z",
     "shell.execute_reply": "2023-12-08T12:00:27.881734Z",
     "shell.execute_reply.started": "2023-12-08T11:51:41.764901Z"
    },
    "papermill": {
     "duration": 0.055012,
     "end_time": "2023-12-08T12:00:27.882836",
     "exception": false,
     "start_time": "2023-12-08T12:00:27.827824",
     "status": "completed"
    },
    "tags": []
   },
   "outputs": [],
   "source": [
    "# filtering vaccination dates where date is 10th of may 2023 \n",
    "\n",
    "# Vaccination data, for most recent date\n",
    "vaccinationByLocation = vaccinationData.loc[(vaccinationData.date == '2023-05-10')][[\"location\", \"people_vaccinated\"]]"
   ]
  },
  {
   "cell_type": "code",
   "execution_count": 4,
   "metadata": {
    "execution": {
     "iopub.execute_input": "2023-12-08T12:00:27.927720Z",
     "iopub.status.busy": "2023-12-08T12:00:27.926925Z",
     "iopub.status.idle": "2023-12-08T12:00:27.943383Z",
     "shell.execute_reply": "2023-12-08T12:00:27.944023Z",
     "shell.execute_reply.started": "2023-12-08T11:51:41.775209Z"
    },
    "papermill": {
     "duration": 0.039347,
     "end_time": "2023-12-08T12:00:27.944203",
     "exception": false,
     "start_time": "2023-12-08T12:00:27.904856",
     "status": "completed"
    },
    "tags": []
   },
   "outputs": [],
   "source": [
    "# merge vaccination data with population data \n",
    "# Vaccination and population data\n",
    "vaccinationAndPopulationByLocation = pd.merge(populationData, vaccinationByLocation, left_on='STATE',right_on='location').drop(columns=\"location\")\n"
   ]
  },
  {
   "cell_type": "code",
   "execution_count": 5,
   "metadata": {
    "execution": {
     "iopub.execute_input": "2023-12-08T12:00:27.986697Z",
     "iopub.status.busy": "2023-12-08T12:00:27.985916Z",
     "iopub.status.idle": "2023-12-08T12:00:28.045941Z",
     "shell.execute_reply": "2023-12-08T12:00:28.046783Z",
     "shell.execute_reply.started": "2023-12-08T11:51:41.788912Z"
    },
    "papermill": {
     "duration": 0.084226,
     "end_time": "2023-12-08T12:00:28.046986",
     "exception": false,
     "start_time": "2023-12-08T12:00:27.962760",
     "status": "completed"
    },
    "tags": []
   },
   "outputs": [
    {
     "data": {
      "text/html": [
       "<div>\n",
       "<style scoped>\n",
       "    .dataframe tbody tr th:only-of-type {\n",
       "        vertical-align: middle;\n",
       "    }\n",
       "\n",
       "    .dataframe tbody tr th {\n",
       "        vertical-align: top;\n",
       "    }\n",
       "\n",
       "    .dataframe thead th {\n",
       "        text-align: right;\n",
       "    }\n",
       "</style>\n",
       "<table border=\"1\" class=\"dataframe\">\n",
       "  <thead>\n",
       "    <tr style=\"text-align: right;\">\n",
       "      <th></th>\n",
       "      <th>STATE</th>\n",
       "      <th>POPESTIMATE2019</th>\n",
       "      <th>lat</th>\n",
       "      <th>long</th>\n",
       "      <th>people_vaccinated</th>\n",
       "      <th>percent_vaccinated</th>\n",
       "    </tr>\n",
       "  </thead>\n",
       "  <tbody>\n",
       "    <tr>\n",
       "      <th>0</th>\n",
       "      <td>Alabama</td>\n",
       "      <td>4903185</td>\n",
       "      <td>32.377716</td>\n",
       "      <td>-86.300568</td>\n",
       "      <td>3193141.0</td>\n",
       "      <td>0.651238</td>\n",
       "    </tr>\n",
       "    <tr>\n",
       "      <th>1</th>\n",
       "      <td>Alaska</td>\n",
       "      <td>731545</td>\n",
       "      <td>58.301598</td>\n",
       "      <td>-134.420212</td>\n",
       "      <td>535718.0</td>\n",
       "      <td>0.732310</td>\n",
       "    </tr>\n",
       "    <tr>\n",
       "      <th>2</th>\n",
       "      <td>Arizona</td>\n",
       "      <td>7278717</td>\n",
       "      <td>33.448143</td>\n",
       "      <td>-112.096962</td>\n",
       "      <td>5704677.0</td>\n",
       "      <td>0.783748</td>\n",
       "    </tr>\n",
       "    <tr>\n",
       "      <th>3</th>\n",
       "      <td>Arkansas</td>\n",
       "      <td>3017804</td>\n",
       "      <td>34.746613</td>\n",
       "      <td>-92.288986</td>\n",
       "      <td>2115165.0</td>\n",
       "      <td>0.700895</td>\n",
       "    </tr>\n",
       "    <tr>\n",
       "      <th>4</th>\n",
       "      <td>California</td>\n",
       "      <td>39512223</td>\n",
       "      <td>38.576668</td>\n",
       "      <td>-121.493629</td>\n",
       "      <td>33613401.0</td>\n",
       "      <td>0.850709</td>\n",
       "    </tr>\n",
       "    <tr>\n",
       "      <th>5</th>\n",
       "      <td>Colorado</td>\n",
       "      <td>5758736</td>\n",
       "      <td>39.739227</td>\n",
       "      <td>-104.984856</td>\n",
       "      <td>4837792.0</td>\n",
       "      <td>0.840079</td>\n",
       "    </tr>\n",
       "    <tr>\n",
       "      <th>6</th>\n",
       "      <td>Connecticut</td>\n",
       "      <td>3565287</td>\n",
       "      <td>41.764046</td>\n",
       "      <td>-72.682198</td>\n",
       "      <td>3670090.0</td>\n",
       "      <td>1.029395</td>\n",
       "    </tr>\n",
       "    <tr>\n",
       "      <th>7</th>\n",
       "      <td>Delaware</td>\n",
       "      <td>973764</td>\n",
       "      <td>39.157307</td>\n",
       "      <td>-75.519722</td>\n",
       "      <td>861811.0</td>\n",
       "      <td>0.885031</td>\n",
       "    </tr>\n",
       "    <tr>\n",
       "      <th>8</th>\n",
       "      <td>District of Columbia</td>\n",
       "      <td>705749</td>\n",
       "      <td>38.895110</td>\n",
       "      <td>-77.036370</td>\n",
       "      <td>836680.0</td>\n",
       "      <td>1.185521</td>\n",
       "    </tr>\n",
       "    <tr>\n",
       "      <th>9</th>\n",
       "      <td>Florida</td>\n",
       "      <td>21477737</td>\n",
       "      <td>30.438118</td>\n",
       "      <td>-84.281296</td>\n",
       "      <td>17810446.0</td>\n",
       "      <td>0.829252</td>\n",
       "    </tr>\n",
       "    <tr>\n",
       "      <th>10</th>\n",
       "      <td>Georgia</td>\n",
       "      <td>10617423</td>\n",
       "      <td>33.749027</td>\n",
       "      <td>-84.388229</td>\n",
       "      <td>7287758.0</td>\n",
       "      <td>0.686396</td>\n",
       "    </tr>\n",
       "    <tr>\n",
       "      <th>11</th>\n",
       "      <td>Hawaii</td>\n",
       "      <td>1415872</td>\n",
       "      <td>21.307442</td>\n",
       "      <td>-157.857376</td>\n",
       "      <td>1297884.0</td>\n",
       "      <td>0.916668</td>\n",
       "    </tr>\n",
       "    <tr>\n",
       "      <th>12</th>\n",
       "      <td>Idaho</td>\n",
       "      <td>1787065</td>\n",
       "      <td>43.617775</td>\n",
       "      <td>-116.199722</td>\n",
       "      <td>1146055.0</td>\n",
       "      <td>0.641306</td>\n",
       "    </tr>\n",
       "    <tr>\n",
       "      <th>13</th>\n",
       "      <td>Illinois</td>\n",
       "      <td>12671821</td>\n",
       "      <td>39.798363</td>\n",
       "      <td>-89.654961</td>\n",
       "      <td>10036899.0</td>\n",
       "      <td>0.792064</td>\n",
       "    </tr>\n",
       "    <tr>\n",
       "      <th>14</th>\n",
       "      <td>Indiana</td>\n",
       "      <td>6732219</td>\n",
       "      <td>39.768623</td>\n",
       "      <td>-86.162643</td>\n",
       "      <td>4350210.0</td>\n",
       "      <td>0.646178</td>\n",
       "    </tr>\n",
       "    <tr>\n",
       "      <th>15</th>\n",
       "      <td>Iowa</td>\n",
       "      <td>3155070</td>\n",
       "      <td>41.591087</td>\n",
       "      <td>-93.603729</td>\n",
       "      <td>2235485.0</td>\n",
       "      <td>0.708537</td>\n",
       "    </tr>\n",
       "    <tr>\n",
       "      <th>16</th>\n",
       "      <td>Kansas</td>\n",
       "      <td>2913314</td>\n",
       "      <td>39.048191</td>\n",
       "      <td>-95.677956</td>\n",
       "      <td>2229631.0</td>\n",
       "      <td>0.765325</td>\n",
       "    </tr>\n",
       "    <tr>\n",
       "      <th>17</th>\n",
       "      <td>Kentucky</td>\n",
       "      <td>4467673</td>\n",
       "      <td>38.186722</td>\n",
       "      <td>-84.875374</td>\n",
       "      <td>3086324.0</td>\n",
       "      <td>0.690812</td>\n",
       "    </tr>\n",
       "    <tr>\n",
       "      <th>18</th>\n",
       "      <td>Louisiana</td>\n",
       "      <td>4648794</td>\n",
       "      <td>30.457069</td>\n",
       "      <td>-91.187393</td>\n",
       "      <td>2924163.0</td>\n",
       "      <td>0.629015</td>\n",
       "    </tr>\n",
       "    <tr>\n",
       "      <th>19</th>\n",
       "      <td>Maine</td>\n",
       "      <td>1344212</td>\n",
       "      <td>44.307167</td>\n",
       "      <td>-69.781693</td>\n",
       "      <td>1315892.0</td>\n",
       "      <td>0.978932</td>\n",
       "    </tr>\n",
       "    <tr>\n",
       "      <th>20</th>\n",
       "      <td>Maryland</td>\n",
       "      <td>6045680</td>\n",
       "      <td>38.978764</td>\n",
       "      <td>-76.490936</td>\n",
       "      <td>5566178.0</td>\n",
       "      <td>0.920687</td>\n",
       "    </tr>\n",
       "    <tr>\n",
       "      <th>21</th>\n",
       "      <td>Massachusetts</td>\n",
       "      <td>6892503</td>\n",
       "      <td>42.358162</td>\n",
       "      <td>-71.063698</td>\n",
       "      <td>7393770.0</td>\n",
       "      <td>1.072726</td>\n",
       "    </tr>\n",
       "    <tr>\n",
       "      <th>22</th>\n",
       "      <td>Michigan</td>\n",
       "      <td>9986857</td>\n",
       "      <td>42.733635</td>\n",
       "      <td>-84.555328</td>\n",
       "      <td>6979192.0</td>\n",
       "      <td>0.698838</td>\n",
       "    </tr>\n",
       "    <tr>\n",
       "      <th>23</th>\n",
       "      <td>Minnesota</td>\n",
       "      <td>5639632</td>\n",
       "      <td>44.955097</td>\n",
       "      <td>-93.102211</td>\n",
       "      <td>4461994.0</td>\n",
       "      <td>0.791185</td>\n",
       "    </tr>\n",
       "    <tr>\n",
       "      <th>24</th>\n",
       "      <td>Mississippi</td>\n",
       "      <td>2976149</td>\n",
       "      <td>32.303848</td>\n",
       "      <td>-90.182106</td>\n",
       "      <td>1839306.0</td>\n",
       "      <td>0.618015</td>\n",
       "    </tr>\n",
       "    <tr>\n",
       "      <th>25</th>\n",
       "      <td>Missouri</td>\n",
       "      <td>6137428</td>\n",
       "      <td>38.579201</td>\n",
       "      <td>-92.172935</td>\n",
       "      <td>4269469.0</td>\n",
       "      <td>0.695645</td>\n",
       "    </tr>\n",
       "    <tr>\n",
       "      <th>26</th>\n",
       "      <td>Montana</td>\n",
       "      <td>1068778</td>\n",
       "      <td>46.585709</td>\n",
       "      <td>-112.018417</td>\n",
       "      <td>731323.0</td>\n",
       "      <td>0.684261</td>\n",
       "    </tr>\n",
       "    <tr>\n",
       "      <th>27</th>\n",
       "      <td>Nebraska</td>\n",
       "      <td>1934408</td>\n",
       "      <td>40.808075</td>\n",
       "      <td>-96.699654</td>\n",
       "      <td>1425923.0</td>\n",
       "      <td>0.737137</td>\n",
       "    </tr>\n",
       "    <tr>\n",
       "      <th>28</th>\n",
       "      <td>Nevada</td>\n",
       "      <td>3080156</td>\n",
       "      <td>39.163914</td>\n",
       "      <td>-119.766121</td>\n",
       "      <td>2400362.0</td>\n",
       "      <td>0.779299</td>\n",
       "    </tr>\n",
       "    <tr>\n",
       "      <th>29</th>\n",
       "      <td>New Hampshire</td>\n",
       "      <td>1359711</td>\n",
       "      <td>43.206898</td>\n",
       "      <td>-71.537994</td>\n",
       "      <td>1203845.0</td>\n",
       "      <td>0.885368</td>\n",
       "    </tr>\n",
       "    <tr>\n",
       "      <th>30</th>\n",
       "      <td>New Jersey</td>\n",
       "      <td>8882190</td>\n",
       "      <td>40.220596</td>\n",
       "      <td>-74.769913</td>\n",
       "      <td>8430561.0</td>\n",
       "      <td>0.949153</td>\n",
       "    </tr>\n",
       "    <tr>\n",
       "      <th>31</th>\n",
       "      <td>New Mexico</td>\n",
       "      <td>2096829</td>\n",
       "      <td>35.682240</td>\n",
       "      <td>-105.939728</td>\n",
       "      <td>1989307.0</td>\n",
       "      <td>0.948722</td>\n",
       "    </tr>\n",
       "    <tr>\n",
       "      <th>32</th>\n",
       "      <td>North Carolina</td>\n",
       "      <td>10488084</td>\n",
       "      <td>35.780430</td>\n",
       "      <td>-78.639099</td>\n",
       "      <td>9456334.0</td>\n",
       "      <td>0.901626</td>\n",
       "    </tr>\n",
       "    <tr>\n",
       "      <th>33</th>\n",
       "      <td>North Dakota</td>\n",
       "      <td>762062</td>\n",
       "      <td>46.820850</td>\n",
       "      <td>-100.783318</td>\n",
       "      <td>530640.0</td>\n",
       "      <td>0.696321</td>\n",
       "    </tr>\n",
       "    <tr>\n",
       "      <th>34</th>\n",
       "      <td>Ohio</td>\n",
       "      <td>11689100</td>\n",
       "      <td>39.961346</td>\n",
       "      <td>-82.999069</td>\n",
       "      <td>7707458.0</td>\n",
       "      <td>0.659371</td>\n",
       "    </tr>\n",
       "    <tr>\n",
       "      <th>35</th>\n",
       "      <td>Oklahoma</td>\n",
       "      <td>3956971</td>\n",
       "      <td>35.492207</td>\n",
       "      <td>-97.503342</td>\n",
       "      <td>2961991.0</td>\n",
       "      <td>0.748550</td>\n",
       "    </tr>\n",
       "    <tr>\n",
       "      <th>36</th>\n",
       "      <td>Oregon</td>\n",
       "      <td>4217737</td>\n",
       "      <td>44.938461</td>\n",
       "      <td>-123.030403</td>\n",
       "      <td>3459096.0</td>\n",
       "      <td>0.820131</td>\n",
       "    </tr>\n",
       "    <tr>\n",
       "      <th>37</th>\n",
       "      <td>Pennsylvania</td>\n",
       "      <td>12801989</td>\n",
       "      <td>40.264378</td>\n",
       "      <td>-76.883598</td>\n",
       "      <td>11666613.0</td>\n",
       "      <td>0.911313</td>\n",
       "    </tr>\n",
       "    <tr>\n",
       "      <th>38</th>\n",
       "      <td>Rhode Island</td>\n",
       "      <td>1059361</td>\n",
       "      <td>41.830914</td>\n",
       "      <td>-71.414963</td>\n",
       "      <td>1126779.0</td>\n",
       "      <td>1.063640</td>\n",
       "    </tr>\n",
       "    <tr>\n",
       "      <th>39</th>\n",
       "      <td>South Carolina</td>\n",
       "      <td>5148714</td>\n",
       "      <td>34.000343</td>\n",
       "      <td>-81.033211</td>\n",
       "      <td>3666079.0</td>\n",
       "      <td>0.712038</td>\n",
       "    </tr>\n",
       "    <tr>\n",
       "      <th>40</th>\n",
       "      <td>South Dakota</td>\n",
       "      <td>884659</td>\n",
       "      <td>44.367031</td>\n",
       "      <td>-100.346405</td>\n",
       "      <td>746118.0</td>\n",
       "      <td>0.843396</td>\n",
       "    </tr>\n",
       "    <tr>\n",
       "      <th>41</th>\n",
       "      <td>Tennessee</td>\n",
       "      <td>6829174</td>\n",
       "      <td>36.165810</td>\n",
       "      <td>-86.784241</td>\n",
       "      <td>4413541.0</td>\n",
       "      <td>0.646277</td>\n",
       "    </tr>\n",
       "    <tr>\n",
       "      <th>42</th>\n",
       "      <td>Texas</td>\n",
       "      <td>28995881</td>\n",
       "      <td>30.274670</td>\n",
       "      <td>-97.740349</td>\n",
       "      <td>22322586.0</td>\n",
       "      <td>0.769854</td>\n",
       "    </tr>\n",
       "    <tr>\n",
       "      <th>43</th>\n",
       "      <td>Utah</td>\n",
       "      <td>3205958</td>\n",
       "      <td>40.777477</td>\n",
       "      <td>-111.888237</td>\n",
       "      <td>2421459.0</td>\n",
       "      <td>0.755300</td>\n",
       "    </tr>\n",
       "    <tr>\n",
       "      <th>44</th>\n",
       "      <td>Vermont</td>\n",
       "      <td>623989</td>\n",
       "      <td>44.262436</td>\n",
       "      <td>-72.580536</td>\n",
       "      <td>623937.0</td>\n",
       "      <td>0.999917</td>\n",
       "    </tr>\n",
       "    <tr>\n",
       "      <th>45</th>\n",
       "      <td>Virginia</td>\n",
       "      <td>8535519</td>\n",
       "      <td>37.538857</td>\n",
       "      <td>-77.433640</td>\n",
       "      <td>7794449.0</td>\n",
       "      <td>0.913178</td>\n",
       "    </tr>\n",
       "    <tr>\n",
       "      <th>46</th>\n",
       "      <td>Washington</td>\n",
       "      <td>7614893</td>\n",
       "      <td>47.035805</td>\n",
       "      <td>-122.905014</td>\n",
       "      <td>6517326.0</td>\n",
       "      <td>0.855866</td>\n",
       "    </tr>\n",
       "    <tr>\n",
       "      <th>47</th>\n",
       "      <td>West Virginia</td>\n",
       "      <td>1792147</td>\n",
       "      <td>38.336246</td>\n",
       "      <td>-81.612328</td>\n",
       "      <td>1212338.0</td>\n",
       "      <td>0.676472</td>\n",
       "    </tr>\n",
       "    <tr>\n",
       "      <th>48</th>\n",
       "      <td>Wisconsin</td>\n",
       "      <td>5822434</td>\n",
       "      <td>43.074684</td>\n",
       "      <td>-89.384445</td>\n",
       "      <td>4386970.0</td>\n",
       "      <td>0.753460</td>\n",
       "    </tr>\n",
       "    <tr>\n",
       "      <th>49</th>\n",
       "      <td>Wyoming</td>\n",
       "      <td>578759</td>\n",
       "      <td>41.140259</td>\n",
       "      <td>-104.820236</td>\n",
       "      <td>353727.0</td>\n",
       "      <td>0.611182</td>\n",
       "    </tr>\n",
       "  </tbody>\n",
       "</table>\n",
       "</div>"
      ],
      "text/plain": [
       "                   STATE  POPESTIMATE2019        lat        long  \\\n",
       "0                Alabama          4903185  32.377716  -86.300568   \n",
       "1                 Alaska           731545  58.301598 -134.420212   \n",
       "2                Arizona          7278717  33.448143 -112.096962   \n",
       "3               Arkansas          3017804  34.746613  -92.288986   \n",
       "4             California         39512223  38.576668 -121.493629   \n",
       "5               Colorado          5758736  39.739227 -104.984856   \n",
       "6            Connecticut          3565287  41.764046  -72.682198   \n",
       "7               Delaware           973764  39.157307  -75.519722   \n",
       "8   District of Columbia           705749  38.895110  -77.036370   \n",
       "9                Florida         21477737  30.438118  -84.281296   \n",
       "10               Georgia         10617423  33.749027  -84.388229   \n",
       "11                Hawaii          1415872  21.307442 -157.857376   \n",
       "12                 Idaho          1787065  43.617775 -116.199722   \n",
       "13              Illinois         12671821  39.798363  -89.654961   \n",
       "14               Indiana          6732219  39.768623  -86.162643   \n",
       "15                  Iowa          3155070  41.591087  -93.603729   \n",
       "16                Kansas          2913314  39.048191  -95.677956   \n",
       "17              Kentucky          4467673  38.186722  -84.875374   \n",
       "18             Louisiana          4648794  30.457069  -91.187393   \n",
       "19                 Maine          1344212  44.307167  -69.781693   \n",
       "20              Maryland          6045680  38.978764  -76.490936   \n",
       "21         Massachusetts          6892503  42.358162  -71.063698   \n",
       "22              Michigan          9986857  42.733635  -84.555328   \n",
       "23             Minnesota          5639632  44.955097  -93.102211   \n",
       "24           Mississippi          2976149  32.303848  -90.182106   \n",
       "25              Missouri          6137428  38.579201  -92.172935   \n",
       "26               Montana          1068778  46.585709 -112.018417   \n",
       "27              Nebraska          1934408  40.808075  -96.699654   \n",
       "28                Nevada          3080156  39.163914 -119.766121   \n",
       "29         New Hampshire          1359711  43.206898  -71.537994   \n",
       "30            New Jersey          8882190  40.220596  -74.769913   \n",
       "31            New Mexico          2096829  35.682240 -105.939728   \n",
       "32        North Carolina         10488084  35.780430  -78.639099   \n",
       "33          North Dakota           762062  46.820850 -100.783318   \n",
       "34                  Ohio         11689100  39.961346  -82.999069   \n",
       "35              Oklahoma          3956971  35.492207  -97.503342   \n",
       "36                Oregon          4217737  44.938461 -123.030403   \n",
       "37          Pennsylvania         12801989  40.264378  -76.883598   \n",
       "38          Rhode Island          1059361  41.830914  -71.414963   \n",
       "39        South Carolina          5148714  34.000343  -81.033211   \n",
       "40          South Dakota           884659  44.367031 -100.346405   \n",
       "41             Tennessee          6829174  36.165810  -86.784241   \n",
       "42                 Texas         28995881  30.274670  -97.740349   \n",
       "43                  Utah          3205958  40.777477 -111.888237   \n",
       "44               Vermont           623989  44.262436  -72.580536   \n",
       "45              Virginia          8535519  37.538857  -77.433640   \n",
       "46            Washington          7614893  47.035805 -122.905014   \n",
       "47         West Virginia          1792147  38.336246  -81.612328   \n",
       "48             Wisconsin          5822434  43.074684  -89.384445   \n",
       "49               Wyoming           578759  41.140259 -104.820236   \n",
       "\n",
       "    people_vaccinated  percent_vaccinated  \n",
       "0           3193141.0            0.651238  \n",
       "1            535718.0            0.732310  \n",
       "2           5704677.0            0.783748  \n",
       "3           2115165.0            0.700895  \n",
       "4          33613401.0            0.850709  \n",
       "5           4837792.0            0.840079  \n",
       "6           3670090.0            1.029395  \n",
       "7            861811.0            0.885031  \n",
       "8            836680.0            1.185521  \n",
       "9          17810446.0            0.829252  \n",
       "10          7287758.0            0.686396  \n",
       "11          1297884.0            0.916668  \n",
       "12          1146055.0            0.641306  \n",
       "13         10036899.0            0.792064  \n",
       "14          4350210.0            0.646178  \n",
       "15          2235485.0            0.708537  \n",
       "16          2229631.0            0.765325  \n",
       "17          3086324.0            0.690812  \n",
       "18          2924163.0            0.629015  \n",
       "19          1315892.0            0.978932  \n",
       "20          5566178.0            0.920687  \n",
       "21          7393770.0            1.072726  \n",
       "22          6979192.0            0.698838  \n",
       "23          4461994.0            0.791185  \n",
       "24          1839306.0            0.618015  \n",
       "25          4269469.0            0.695645  \n",
       "26           731323.0            0.684261  \n",
       "27          1425923.0            0.737137  \n",
       "28          2400362.0            0.779299  \n",
       "29          1203845.0            0.885368  \n",
       "30          8430561.0            0.949153  \n",
       "31          1989307.0            0.948722  \n",
       "32          9456334.0            0.901626  \n",
       "33           530640.0            0.696321  \n",
       "34          7707458.0            0.659371  \n",
       "35          2961991.0            0.748550  \n",
       "36          3459096.0            0.820131  \n",
       "37         11666613.0            0.911313  \n",
       "38          1126779.0            1.063640  \n",
       "39          3666079.0            0.712038  \n",
       "40           746118.0            0.843396  \n",
       "41          4413541.0            0.646277  \n",
       "42         22322586.0            0.769854  \n",
       "43          2421459.0            0.755300  \n",
       "44           623937.0            0.999917  \n",
       "45          7794449.0            0.913178  \n",
       "46          6517326.0            0.855866  \n",
       "47          1212338.0            0.676472  \n",
       "48          4386970.0            0.753460  \n",
       "49           353727.0            0.611182  "
      ]
     },
     "execution_count": 5,
     "metadata": {},
     "output_type": "execute_result"
    }
   ],
   "source": [
    "# Calculate percentage vaccinated persons by state\n",
    "vaccinationAndPopulationByLocation[\"percent_vaccinated\"] = vaccinationAndPopulationByLocation[\"people_vaccinated\"] / vaccinationAndPopulationByLocation[\"POPESTIMATE2019\"]\n",
    "\n",
    "vaccinationAndPopulationByLocation"
   ]
  },
  {
   "cell_type": "code",
   "execution_count": 6,
   "metadata": {
    "execution": {
     "iopub.execute_input": "2023-12-08T12:00:28.095632Z",
     "iopub.status.busy": "2023-12-08T12:00:28.094847Z",
     "iopub.status.idle": "2023-12-08T12:00:28.106078Z",
     "shell.execute_reply": "2023-12-08T12:00:28.105440Z",
     "shell.execute_reply.started": "2023-12-08T11:51:41.818218Z"
    },
    "papermill": {
     "duration": 0.034712,
     "end_time": "2023-12-08T12:00:28.106215",
     "exception": false,
     "start_time": "2023-12-08T12:00:28.071503",
     "status": "completed"
    },
    "tags": []
   },
   "outputs": [
    {
     "name": "stdout",
     "output_type": "stream",
     "text": [
      "Date ran: 2023-12-08\n",
      "Percentage Vaccinated in the US: 80.04%\n"
     ]
    }
   ],
   "source": [
    "print(\"Date ran:\", date.today())\n",
    "\n",
    "# Calculate the total percent vaccinated in the US\n",
    "percentageTotal = vaccinationAndPopulationByLocation[\"people_vaccinated\"].sum() / vaccinationAndPopulationByLocation[\"POPESTIMATE2019\"].sum()\n",
    "print('Percentage Vaccinated in the US: {}%'.format(round(percentageTotal*100, 2))) "
   ]
  },
  {
   "cell_type": "markdown",
   "metadata": {
    "papermill": {
     "duration": 0.019998,
     "end_time": "2023-12-08T12:00:28.148553",
     "exception": false,
     "start_time": "2023-12-08T12:00:28.128555",
     "status": "completed"
    },
    "tags": []
   },
   "source": [
    "# 3. Data Tracker\n",
    "\n",
    "We create a tracker using the vaccination data, with one marker representing each state.  Click on the markers to see the percentage of the population that has been vaccinated."
   ]
  },
  {
   "cell_type": "code",
   "execution_count": 7,
   "metadata": {
    "execution": {
     "iopub.execute_input": "2023-12-08T12:00:28.193447Z",
     "iopub.status.busy": "2023-12-08T12:00:28.192342Z",
     "iopub.status.idle": "2023-12-08T12:00:28.209230Z",
     "shell.execute_reply": "2023-12-08T12:00:28.209835Z",
     "shell.execute_reply.started": "2023-12-08T11:51:41.824737Z"
    },
    "papermill": {
     "duration": 0.041128,
     "end_time": "2023-12-08T12:00:28.209990",
     "exception": false,
     "start_time": "2023-12-08T12:00:28.168862",
     "status": "completed"
    },
    "tags": []
   },
   "outputs": [],
   "source": [
    "# Create the map\n",
    "v_map = folium.Map(location=[42.32,-71.0589], tiles='cartodbpositron', zoom_start=4) "
   ]
  },
  {
   "cell_type": "code",
   "execution_count": 8,
   "metadata": {
    "execution": {
     "iopub.execute_input": "2023-12-08T12:00:28.255575Z",
     "iopub.status.busy": "2023-12-08T12:00:28.254493Z",
     "iopub.status.idle": "2023-12-08T12:00:28.265456Z",
     "shell.execute_reply": "2023-12-08T12:00:28.266033Z",
     "shell.execute_reply.started": "2023-12-08T11:51:41.835324Z"
    },
    "papermill": {
     "duration": 0.03538,
     "end_time": "2023-12-08T12:00:28.266200",
     "exception": false,
     "start_time": "2023-12-08T12:00:28.230820",
     "status": "completed"
    },
    "tags": []
   },
   "outputs": [
    {
     "data": {
      "text/html": [
       "<div style=\"width:100%;\"><div style=\"position:relative;width:100%;height:0;padding-bottom:60%;\"><span style=\"color:#565656\">Make this Notebook Trusted to load map: File -> Trust Notebook</span><iframe src=\"about:blank\" style=\"position:absolute;width:100%;height:100%;left:0;top:0;border:none !important;\" data-html=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 onload=\"this.contentDocument.open();this.contentDocument.write(atob(this.getAttribute('data-html')));this.contentDocument.close();\" allowfullscreen webkitallowfullscreen mozallowfullscreen></iframe></div></div>"
      ],
      "text/plain": [
       "<folium.folium.Map at 0x7d091e16a0d0>"
      ]
     },
     "execution_count": 8,
     "metadata": {},
     "output_type": "execute_result"
    }
   ],
   "source": [
    "# Display the map\n",
    "v_map"
   ]
  },
  {
   "cell_type": "code",
   "execution_count": 9,
   "metadata": {
    "execution": {
     "iopub.execute_input": "2023-12-08T12:00:28.324641Z",
     "iopub.status.busy": "2023-12-08T12:00:28.323485Z",
     "iopub.status.idle": "2023-12-08T12:00:28.417208Z",
     "shell.execute_reply": "2023-12-08T12:00:28.418030Z",
     "shell.execute_reply.started": "2023-12-08T11:51:41.848513Z"
    },
    "papermill": {
     "duration": 0.130973,
     "end_time": "2023-12-08T12:00:28.418246",
     "exception": false,
     "start_time": "2023-12-08T12:00:28.287273",
     "status": "completed"
    },
    "tags": []
   },
   "outputs": [
    {
     "data": {
      "text/html": [
       "<div style=\"width:100%;\"><div style=\"position:relative;width:100%;height:0;padding-bottom:60%;\"><span style=\"color:#565656\">Make this Notebook Trusted to load map: File -> Trust Notebook</span><iframe src=\"about:blank\" style=\"position:absolute;width:100%;height:100%;left:0;top:0;border:none !important;\" data-html=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 onload=\"this.contentDocument.open();this.contentDocument.write(atob(this.getAttribute('data-html')));this.contentDocument.close();\" allowfullscreen webkitallowfullscreen mozallowfullscreen></iframe></div></div>"
      ],
      "text/plain": [
       "<folium.folium.Map at 0x7d091e16a0d0>"
      ]
     },
     "execution_count": 9,
     "metadata": {},
     "output_type": "execute_result"
    }
   ],
   "source": [
    "# Add points to the map\n",
    "mc = MarkerCluster()\n",
    "for idx, row in vaccinationAndPopulationByLocation.iterrows(): \n",
    "    if not math.isnan(row['long']) and not math.isnan(row['lat']):\n",
    "        mc.add_child(Marker(location=[row['lat'], row['long']],\n",
    "                            tooltip=str(round(row['percent_vaccinated']*100, 2))+\"%\"))\n",
    "v_map.add_child(mc)"
   ]
  },
  {
   "cell_type": "markdown",
   "metadata": {
    "papermill": {
     "duration": 0.021876,
     "end_time": "2023-12-08T12:00:28.464255",
     "exception": false,
     "start_time": "2023-12-08T12:00:28.442379",
     "status": "completed"
    },
    "tags": []
   },
   "source": [
    "# 4. Bubble Maps\n",
    "\n",
    "Bubble Maps uses circle instead of markers, we can use circles and colors to vary the size of the each circle."
   ]
  },
  {
   "cell_type": "code",
   "execution_count": 10,
   "metadata": {
    "execution": {
     "iopub.execute_input": "2023-12-08T12:00:28.512483Z",
     "iopub.status.busy": "2023-12-08T12:00:28.511674Z",
     "iopub.status.idle": "2023-12-08T12:00:28.531289Z",
     "shell.execute_reply": "2023-12-08T12:00:28.532207Z",
     "shell.execute_reply.started": "2023-12-08T11:51:41.915520Z"
    },
    "papermill": {
     "duration": 0.046083,
     "end_time": "2023-12-08T12:00:28.532443",
     "exception": false,
     "start_time": "2023-12-08T12:00:28.486360",
     "status": "completed"
    },
    "tags": []
   },
   "outputs": [
    {
     "data": {
      "text/html": [
       "<div>\n",
       "<style scoped>\n",
       "    .dataframe tbody tr th:only-of-type {\n",
       "        vertical-align: middle;\n",
       "    }\n",
       "\n",
       "    .dataframe tbody tr th {\n",
       "        vertical-align: top;\n",
       "    }\n",
       "\n",
       "    .dataframe thead th {\n",
       "        text-align: right;\n",
       "    }\n",
       "</style>\n",
       "<table border=\"1\" class=\"dataframe\">\n",
       "  <thead>\n",
       "    <tr style=\"text-align: right;\">\n",
       "      <th></th>\n",
       "      <th>STATE</th>\n",
       "      <th>POPESTIMATE2019</th>\n",
       "      <th>lat</th>\n",
       "      <th>long</th>\n",
       "      <th>people_vaccinated</th>\n",
       "      <th>percent_vaccinated</th>\n",
       "    </tr>\n",
       "  </thead>\n",
       "  <tbody>\n",
       "    <tr>\n",
       "      <th>0</th>\n",
       "      <td>Alabama</td>\n",
       "      <td>4903185</td>\n",
       "      <td>32.377716</td>\n",
       "      <td>-86.300568</td>\n",
       "      <td>3193141.0</td>\n",
       "      <td>0.651238</td>\n",
       "    </tr>\n",
       "    <tr>\n",
       "      <th>1</th>\n",
       "      <td>Alaska</td>\n",
       "      <td>731545</td>\n",
       "      <td>58.301598</td>\n",
       "      <td>-134.420212</td>\n",
       "      <td>535718.0</td>\n",
       "      <td>0.732310</td>\n",
       "    </tr>\n",
       "    <tr>\n",
       "      <th>2</th>\n",
       "      <td>Arizona</td>\n",
       "      <td>7278717</td>\n",
       "      <td>33.448143</td>\n",
       "      <td>-112.096962</td>\n",
       "      <td>5704677.0</td>\n",
       "      <td>0.783748</td>\n",
       "    </tr>\n",
       "    <tr>\n",
       "      <th>3</th>\n",
       "      <td>Arkansas</td>\n",
       "      <td>3017804</td>\n",
       "      <td>34.746613</td>\n",
       "      <td>-92.288986</td>\n",
       "      <td>2115165.0</td>\n",
       "      <td>0.700895</td>\n",
       "    </tr>\n",
       "    <tr>\n",
       "      <th>4</th>\n",
       "      <td>California</td>\n",
       "      <td>39512223</td>\n",
       "      <td>38.576668</td>\n",
       "      <td>-121.493629</td>\n",
       "      <td>33613401.0</td>\n",
       "      <td>0.850709</td>\n",
       "    </tr>\n",
       "  </tbody>\n",
       "</table>\n",
       "</div>"
      ],
      "text/plain": [
       "        STATE  POPESTIMATE2019        lat        long  people_vaccinated  \\\n",
       "0     Alabama          4903185  32.377716  -86.300568          3193141.0   \n",
       "1      Alaska           731545  58.301598 -134.420212           535718.0   \n",
       "2     Arizona          7278717  33.448143 -112.096962          5704677.0   \n",
       "3    Arkansas          3017804  34.746613  -92.288986          2115165.0   \n",
       "4  California         39512223  38.576668 -121.493629         33613401.0   \n",
       "\n",
       "   percent_vaccinated  \n",
       "0            0.651238  \n",
       "1            0.732310  \n",
       "2            0.783748  \n",
       "3            0.700895  \n",
       "4            0.850709  "
      ]
     },
     "execution_count": 10,
     "metadata": {},
     "output_type": "execute_result"
    }
   ],
   "source": [
    " vaccinationAndPopulationByLocation.head()"
   ]
  },
  {
   "cell_type": "code",
   "execution_count": 11,
   "metadata": {
    "execution": {
     "iopub.execute_input": "2023-12-08T12:00:28.591341Z",
     "iopub.status.busy": "2023-12-08T12:00:28.590569Z",
     "iopub.status.idle": "2023-12-08T12:00:28.602566Z",
     "shell.execute_reply": "2023-12-08T12:00:28.601374Z",
     "shell.execute_reply.started": "2023-12-08T11:51:41.931080Z"
    },
    "papermill": {
     "duration": 0.038374,
     "end_time": "2023-12-08T12:00:28.602762",
     "exception": false,
     "start_time": "2023-12-08T12:00:28.564388",
     "status": "completed"
    },
    "tags": []
   },
   "outputs": [],
   "source": [
    "b_map = folium.Map(location=[42.32,-71.0589], tiles='cartodbpositron', zoom_start=4) "
   ]
  },
  {
   "cell_type": "markdown",
   "metadata": {
    "papermill": {
     "duration": 0.023035,
     "end_time": "2023-12-08T12:00:28.650067",
     "exception": false,
     "start_time": "2023-12-08T12:00:28.627032",
     "status": "completed"
    },
    "tags": []
   },
   "source": [
    "Here we create color producer: if percent is less, than 0.5, it will be colored in green, if value is between [0.5; 0.7) it will be in orange, otherwise in red\n",
    "."
   ]
  },
  {
   "cell_type": "code",
   "execution_count": 12,
   "metadata": {
    "execution": {
     "iopub.execute_input": "2023-12-08T12:00:28.702545Z",
     "iopub.status.busy": "2023-12-08T12:00:28.701802Z",
     "iopub.status.idle": "2023-12-08T12:00:28.705128Z",
     "shell.execute_reply": "2023-12-08T12:00:28.704388Z",
     "shell.execute_reply.started": "2023-12-08T11:51:41.941410Z"
    },
    "papermill": {
     "duration": 0.032566,
     "end_time": "2023-12-08T12:00:28.705259",
     "exception": false,
     "start_time": "2023-12-08T12:00:28.672693",
     "status": "completed"
    },
    "tags": []
   },
   "outputs": [],
   "source": [
    "def color_producer(value):\n",
    "    if value < 0.5:\n",
    "        return 'green'\n",
    "    elif (0.5 <= value < 0.7):\n",
    "        return 'darkorange'\n",
    "    else:\n",
    "        return 'red'\n",
    "    "
   ]
  },
  {
   "cell_type": "code",
   "execution_count": 13,
   "metadata": {
    "execution": {
     "iopub.execute_input": "2023-12-08T12:00:28.760926Z",
     "iopub.status.busy": "2023-12-08T12:00:28.760217Z",
     "iopub.status.idle": "2023-12-08T12:00:28.854361Z",
     "shell.execute_reply": "2023-12-08T12:00:28.853535Z",
     "shell.execute_reply.started": "2023-12-08T11:55:07.549156Z"
    },
    "papermill": {
     "duration": 0.126274,
     "end_time": "2023-12-08T12:00:28.854530",
     "exception": false,
     "start_time": "2023-12-08T12:00:28.728256",
     "status": "completed"
    },
    "tags": []
   },
   "outputs": [
    {
     "data": {
      "text/html": [
       "<div style=\"width:100%;\"><div style=\"position:relative;width:100%;height:0;padding-bottom:60%;\"><span style=\"color:#565656\">Make this Notebook Trusted to load map: File -> Trust Notebook</span><iframe src=\"about:blank\" style=\"position:absolute;width:100%;height:100%;left:0;top:0;border:none !important;\" data-html=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 onload=\"this.contentDocument.open();this.contentDocument.write(atob(this.getAttribute('data-html')));this.contentDocument.close();\" allowfullscreen webkitallowfullscreen mozallowfullscreen></iframe></div></div>"
      ],
      "text/plain": [
       "<folium.folium.Map at 0x7d091e18bcd0>"
      ]
     },
     "execution_count": 13,
     "metadata": {},
     "output_type": "execute_result"
    }
   ],
   "source": [
    "# add bubble map\n",
    "for i in range(0, len(vaccinationAndPopulationByLocation)):\n",
    "    Circle(\n",
    "        location= [vaccinationAndPopulationByLocation.iloc[i]['lat'],vaccinationAndPopulationByLocation.iloc[i]['long']],\n",
    "        radius=float(vaccinationAndPopulationByLocation.iloc[i]['percent_vaccinated'])*1000,\n",
    "        fill = True,\n",
    "        color=color_producer(vaccinationAndPopulationByLocation.iloc[i]['percent_vaccinated'])\n",
    "        \n",
    "    ).add_to(b_map)\n",
    "    \n",
    "b_map"
   ]
  },
  {
   "cell_type": "markdown",
   "metadata": {
    "papermill": {
     "duration": 0.023924,
     "end_time": "2023-12-08T12:00:28.903313",
     "exception": false,
     "start_time": "2023-12-08T12:00:28.879389",
     "status": "completed"
    },
    "tags": []
   },
   "source": [
    "# 5. HeatMap\n",
    "This shows the density of vaccinated people in different areas of the city, where red areas have relatively more vaccinated people."
   ]
  },
  {
   "cell_type": "code",
   "execution_count": 14,
   "metadata": {
    "execution": {
     "iopub.execute_input": "2023-12-08T12:00:28.960460Z",
     "iopub.status.busy": "2023-12-08T12:00:28.959666Z",
     "iopub.status.idle": "2023-12-08T12:00:28.976631Z",
     "shell.execute_reply": "2023-12-08T12:00:28.975900Z",
     "shell.execute_reply.started": "2023-12-08T11:51:42.017799Z"
    },
    "papermill": {
     "duration": 0.049237,
     "end_time": "2023-12-08T12:00:28.976754",
     "exception": false,
     "start_time": "2023-12-08T12:00:28.927517",
     "status": "completed"
    },
    "tags": []
   },
   "outputs": [
    {
     "data": {
      "text/html": [
       "<div style=\"width:100%;\"><div style=\"position:relative;width:100%;height:0;padding-bottom:60%;\"><span style=\"color:#565656\">Make this Notebook Trusted to load map: File -> Trust Notebook</span><iframe src=\"about:blank\" style=\"position:absolute;width:100%;height:100%;left:0;top:0;border:none !important;\" data-html=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 onload=\"this.contentDocument.open();this.contentDocument.write(atob(this.getAttribute('data-html')));this.contentDocument.close();\" allowfullscreen webkitallowfullscreen mozallowfullscreen></iframe></div></div>"
      ],
      "text/plain": [
       "<folium.folium.Map at 0x7d091e1036d0>"
      ]
     },
     "execution_count": 14,
     "metadata": {},
     "output_type": "execute_result"
    }
   ],
   "source": [
    "h_3 = folium.Map(location=[42.32,-71.0589], tiles='cartodbpositron', zoom_start=4) \n",
    "\n",
    "HeatMap(data=vaccinationAndPopulationByLocation[['lat', 'long']], radius=10).add_to(h_3)\n",
    "h_3"
   ]
  },
  {
   "cell_type": "markdown",
   "metadata": {
    "papermill": {
     "duration": 0.02443,
     "end_time": "2023-12-08T12:00:29.025971",
     "exception": false,
     "start_time": "2023-12-08T12:00:29.001541",
     "status": "completed"
    },
    "tags": []
   },
   "source": [
    "#  6. Conclusion\n",
    "\n",
    "The End. Thank you all for looking through my analysis. \n",
    "\n",
    "Kindly drop any comments and upvote!!"
   ]
  }
 ],
 "metadata": {
  "kaggle": {
   "accelerator": "none",
   "dataSources": [
    {
     "datasetId": 1097868,
     "sourceId": 1866506,
     "sourceType": "datasetVersion"
    }
   ],
   "dockerImageVersionId": 30042,
   "isGpuEnabled": false,
   "isInternetEnabled": true,
   "language": "python",
   "sourceType": "notebook"
  },
  "kernelspec": {
   "display_name": "Python 3",
   "language": "python",
   "name": "python3"
  },
  "language_info": {
   "codemirror_mode": {
    "name": "ipython",
    "version": 3
   },
   "file_extension": ".py",
   "mimetype": "text/x-python",
   "name": "python",
   "nbconvert_exporter": "python",
   "pygments_lexer": "ipython3",
   "version": "3.7.6"
  },
  "papermill": {
   "duration": 8.446936,
   "end_time": "2023-12-08T12:00:29.159870",
   "environment_variables": {},
   "exception": null,
   "input_path": "__notebook__.ipynb",
   "output_path": "__notebook__.ipynb",
   "parameters": {},
   "start_time": "2023-12-08T12:00:20.712934",
   "version": "2.1.0"
  }
 },
 "nbformat": 4,
 "nbformat_minor": 4
}
